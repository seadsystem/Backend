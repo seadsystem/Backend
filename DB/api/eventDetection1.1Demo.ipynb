{
 "cells": [
  {
   "cell_type": "markdown",
   "metadata": {},
   "source": [
    "# Event Detection 1.1"
   ]
  },
  {
   "cell_type": "markdown",
   "metadata": {},
   "source": [
    "The current event detection implementation:"
   ]
  },
  {
   "cell_type": "code",
   "execution_count": 7,
   "metadata": {
    "collapsed": true
   },
   "outputs": [],
   "source": [
    "def detect(time_series, threshold):\n",
    "\t\"\"\"\n",
    "\tDetects a list of events events in a result set returned from the db. An event is defined\n",
    "\tas a increase or descrease in power that is above some threshold.\n",
    "\n",
    "\t:param time_series: a generator created by the retrieve_within_filters function\n",
    "\t\t\t\t\t\tcontains dates and power readings\n",
    "\t:param threshold: the threshold value for event detection\n",
    "\t:return eventList: a python matrix containing a list of times for detected events\n",
    "\t\"\"\"\n",
    "\tif threshold == 0:\n",
    "\t\traise Exception(\"Threshold cannot be 0, try another value.\")\n",
    "\n",
    "\tdef convert_to_float(data_point):\n",
    "\t\tdata = list(data_point)\n",
    "\t\tdata[1] = float(data[1])\n",
    "\t\treturn data\n",
    "\n",
    "\tresponse_list = list(map(convert_to_float, time_series[1:]))\n",
    "\n",
    "\tevent_list = []\n",
    "\n",
    "\tt1 = response_list[0]\n",
    "\tt2 = response_list[1]\n",
    "\tt3 = response_list[2]\n",
    "\tt4 = response_list[3]\n",
    "\tt5 = response_list[4]\n",
    "\tt6 = response_list[5]\n",
    "\n",
    "\tprev_avg = (t1[1] + t2[1] + t3[1] + t4[1] + t5[1]) / 5\n",
    "\tcurr_avg = (t2[1] + t3[1] + t4[1] + t5[1] + t6[1]) / 5\n",
    "\n",
    "\tfor i, data in enumerate(response_list[7:], start=6):\n",
    "\n",
    "\t\tif (curr_avg / prev_avg) > threshold:\n",
    "\t\t\tevent_list.append(tuple([t4[0], \"rising\"]))\n",
    "\t\tif (curr_avg / prev_avg) < (1 / threshold):\n",
    "\t\t\tevent_list.append(tuple([t4[0], \"falling\"]))\n",
    "\n",
    "\t\tt1 = t2\n",
    "\t\tt2 = t3\n",
    "\t\tt3 = t4\n",
    "\t\tt4 = t5\n",
    "\t\tt5 = t6\n",
    "\t\tt6 = response_list[i]\n",
    "\t\tprev_avg = (t1[1] + t2[1] + t3[1] + t4[1] + t5[1]) / 5\n",
    "\t\tcurr_avg = (t2[1] + t3[1] + t4[1] + t5[1] + t6[1]) / 5\n",
    "\n",
    "\treturn event_list"
   ]
  },
  {
   "cell_type": "markdown",
   "metadata": {},
   "source": [
    "Here is an example of the style of data we currently have:\n",
    "\n",
    "\"Date & Time\",\"use [kW]\",\"gen [kW]\",\"MaxVrmsA [V]\",\"MaxVrmsB [V]\",\"NetMeter [kW]\",\"Consumption [kW]\",\"PowerS [kW]\",\"PowerG [kW]\",\"Panel1 [kW]\",\"Panel2 [kW]\",\"Panel3 [kW]\",\"VrmsA [V]\",\"VrmsB [V]\",\"I11 [A]\",\"I12 [A]\",\"I21 [A]\",\"I22 [A]\",\"I31 [A]\",\"I32 [A]\",\"F2 [Hz]\",\"F1 [Hz]\",\"Shed [kW]\"\n",
    "2016-01-15 18:18:59,-0.681000000,-0.006000000,117.750005593,118.216005615,-0.687000000,-0.681000000,-0.006000000,-0.000000000,-0.084000000,-0.267000000,-0.328000000,117.750005593,118.216005615,0.794000038,0.288000014,1.735000082,1.213000058,3.272000155,0.288000014,60.021002851,59.994002850,-0.002000000\n",
    "2016-01-15 18:18:58,-0.679000000,-0.007000000,117.726005592,118.185005613,-0.686000000,-0.679000000,-0.007000000,-0.000000000,-0.083000000,-0.268000000,-0.327000000,117.726005592,118.185005613,0.794000038,0.289000014,1.742000083,1.215000058,3.271000155,0.288000014,59.993002850,60.007002850,-0.001000000\n",
    "2016-01-15 18:18:57,-0.686000000,-0.006000000,117.791005595,118.258005617,-0.692000000,-0.686000000,-0.006000000,-0.000000000,-0.084000000,-0.272000000,-0.327000000,117.791005595,118.258005617,0.795000038,0.290000014,1.786000085,1.217000058,3.270000155,0.289000014,60.008002850,60.026002851,-0.003000000\n",
    "2016-01-15\n",
    "\n",
    "Our function requires a matrix which looks like this:\n",
    "\n",
    "[timestamp,(power/current/voltage reading)]<br>[...]\n",
    "\n",
    "Now loading and parsing csv file to proper format:"
   ]
  },
  {
   "cell_type": "code",
   "execution_count": 8,
   "metadata": {
    "collapsed": false,
    "scrolled": false
   },
   "outputs": [
    {
     "name": "stdout",
     "output_type": "stream",
     "text": [
      "['2016-01-15 06:19:00', '-0.361000000', '-0.006000000', '119.019005653', '119.765005689', '-0.367000000', '-0.361000000', '-0.006000000', '-0.000000000', '-0.085000000', '-0.173000000', '-0.101000000', '119.019005653', '119.765005689', '0.828000039', '0.299000014', '1.640000078', '0.301000014', '1.015000048', '0.131000006', '59.985002849', '59.987002849', '-0.002000000']\n"
     ]
    }
   ],
   "source": [
    "import csv\n",
    "\n",
    "#here we are using 12 hours of data\n",
    "with open('dataSample12h.csv', 'rb') as f:\n",
    "    reader = csv.reader(f)\n",
    "    plug_data = list(reader)\n",
    "\n",
    "print plug_data[1]"
   ]
  },
  {
   "cell_type": "code",
   "execution_count": 9,
   "metadata": {
    "collapsed": false
   },
   "outputs": [
    {
     "name": "stdout",
     "output_type": "stream",
     "text": [
      "[datetime.datetime(2016, 1, 15, 6, 19), -0.085]\n"
     ]
    }
   ],
   "source": [
    "#lets look at Panel1 (timestamp @ index 0, Panel 1 @ index 9)\n",
    "from datetime import datetime as dt\n",
    "\n",
    "detectArray = []\n",
    "\n",
    "for seconds in plug_data:\n",
    "    time = dt.strptime(seconds[0], \"%Y-%m-%d %H:%M:%S\")\n",
    "    detectArray.append([time,float(seconds[9])])\n",
    "    \n",
    "print detectArray[1]"
   ]
  },
  {
   "cell_type": "code",
   "execution_count": 10,
   "metadata": {
    "collapsed": false,
    "scrolled": true
   },
   "outputs": [
    {
     "data": {
      "image/png": "[encoded data removed]",
      "text/plain": [
       "<matplotlib.figure.Figure at 0x7fe27c218e10>"
      ]
     },
     "metadata": {},
     "output_type": "display_data"
    },
    {
     "data": {
      "image/png": "[encoded data removed]",
      "text/plain": [
       "<matplotlib.figure.Figure at 0x7fe27a14a210>"
      ]
     },
     "metadata": {},
     "output_type": "display_data"
    }
   ],
   "source": [
    "%matplotlib inline  \n",
    "#here's the data graphed\n",
    "#seen here http://stackoverflow.com/questions/19079143/how-to-plot-time-series-in-python\n",
    "import numpy as np\n",
    "import pylab as pl\n",
    "\n",
    "timestamp = []\n",
    "reading = []\n",
    "iter = 0\n",
    "\n",
    "for i in detectArray:\n",
    "    iter += 1\n",
    "    \n",
    "    timestamp.append(i[0])\n",
    "    #multiplying by -1 for positive readings\n",
    "    reading.append(-1*i[1])\n",
    "\n",
    "x = np.array(timestamp)\n",
    "y = np.array(reading)\n",
    "\n",
    "pl.plot(x,y)\n",
    "#plot first last hours (lower indexcies indicate closer to present)\n",
    "pl.xlim(timestamp[3600*3],timestamp[0])\n",
    "pl.show()\n",
    "\n",
    "pl.plot(x,y)\n",
    "#plot entire \n",
    "pl.show()"
   ]
  },
  {
   "cell_type": "markdown",
   "metadata": {},
   "source": [
    "Now that we have the data in to proper format, lets test our the run time of the current script (as well as the number of events detected, just to make sure that doesnt change, threshold set to 3):"
   ]
  },
  {
   "cell_type": "code",
   "execution_count": 11,
   "metadata": {
    "collapsed": false,
    "scrolled": true
   },
   "outputs": [
    {
     "name": "stdout",
     "output_type": "stream",
     "text": [
      "15\n",
      "It took 0.0756831169128 seconds.\n"
     ]
    }
   ],
   "source": [
    "import time\n",
    "\n",
    "print len(detect(detectArray,3))\n",
    "\n",
    "start = time.time()\n",
    "detect(detectArray,3)\n",
    "\n",
    "print 'It took', time.time()-start, 'seconds.'"
   ]
  },
  {
   "cell_type": "code",
   "execution_count": 12,
   "metadata": {
    "collapsed": false,
    "scrolled": true
   },
   "outputs": [
    {
     "name": "stdout",
     "output_type": "stream",
     "text": [
      "15\n",
      "It took 0.104887008667 seconds.\n"
     ]
    }
   ],
   "source": [
    "#using numpy arrays is slower, we don't use this, just testing\n",
    "npDetect = np.array(detectArray)\n",
    "\n",
    "print len(detect(npDetect,3))\n",
    "\n",
    "start = time.time()\n",
    "detect(npDetect,3)\n",
    "\n",
    "print 'It took', time.time()-start, 'seconds.'"
   ]
  },
  {
   "cell_type": "code",
   "execution_count": 13,
   "metadata": {
    "collapsed": false,
    "scrolled": true
   },
   "outputs": [],
   "source": [
    "#proposed change to detect():\n",
    "def newdetect(time_series, threshold, windowSize=5):\n",
    "    \"\"\"\n",
    "    Detects a list of events events in a result set returned from the db. An event is defined\n",
    "    as a increase or descrease in power that is above some threshold.\n",
    "\n",
    "    :param time_series: a generator created by the retrieve_within_filters function\n",
    "                        contains dates and power readings\n",
    "    :param threshold: the threshold value for event detection\n",
    "    :param windowSize(default=5): window size of sliding window\n",
    "    :return eventList: a python matrix containing a list of times for detected events\n",
    "    \"\"\"\n",
    "    if threshold == 0:\n",
    "        raise Exception(\"Threshold cannot be 0, try another value.\")\n",
    "\n",
    "    if windowSize < 2:\n",
    "        raise Exception(\"Window must have a value of at least 2.\")\n",
    "        \n",
    "    def convert_to_float(data_point):\n",
    "        data = list(data_point)\n",
    "        data[1] = float(data[1])\n",
    "        return data\n",
    "\n",
    "    response_list = list(map(convert_to_float, time_series[1:]))\n",
    "\n",
    "    #load in first values to the window based on windowSize parameter (default 5)\n",
    "    #here we load up and extra value to get the first and second averages\n",
    "    window_list = response_list[:windowSize]\n",
    "    prev_avg = sum(item[1] for item in window_list)/windowSize\n",
    "    \n",
    "    #first slide\n",
    "    window_list = response_list[1:windowSize+1]\n",
    "    curr_avg = sum(item[1] for item in window_list)/windowSize\n",
    "            \n",
    "    event_list = []\n",
    "    \n",
    "    counter = 2    \n",
    "    center = windowSize/2\n",
    "    for i, data in enumerate(response_list[7:], start=6):\n",
    "                   \n",
    "        #check for delta change above/below a threshold\n",
    "        if (curr_avg / prev_avg) > threshold:\n",
    "            event_list.append(tuple([window_list[center][0], \"rising\"]))\n",
    "        if (curr_avg / prev_avg) < (1 / threshold):\n",
    "            event_list.append(tuple([window_list[center][0], \"falling\"]))\n",
    "       \n",
    "        #slide and update averages\n",
    "        window_list = response_list[counter:counter+windowSize]\n",
    "        prev_avg = curr_avg\n",
    "        curr_avg = sum(item[1] for item in window_list)/windowSize\n",
    "        \n",
    "        counter += 1\n",
    "                   \n",
    "    return event_list"
   ]
  },
  {
   "cell_type": "code",
   "execution_count": 14,
   "metadata": {
    "collapsed": false
   },
   "outputs": [
    {
     "name": "stdout",
     "output_type": "stream",
     "text": [
      "The old detect took 0.0530149936676 seconds.\n",
      "The new detect took 0.0896439552307 seconds.\n"
     ]
    }
   ],
   "source": [
    "#lets try it out\n",
    "\n",
    "start = time.time()\n",
    "detect(detectArray,3)\n",
    "\n",
    "print 'The old detect took', time.time()-start, 'seconds.'\n",
    "\n",
    "start = time.time()\n",
    "newdetect(detectArray,3)\n",
    "\n",
    "print 'The new detect took', time.time()-start, 'seconds.'"
   ]
  },
  {
   "cell_type": "markdown",
   "metadata": {},
   "source": [
    "Although this new event detection module is a bit slower, the addition of an elastic window size increases its functionality by a significant amount (The division operation for the center calculation seems to add the most time). The cause for the descrepency in run time should be investigated further, please let me know if you have any ideas."
   ]
  },
  {
   "cell_type": "code",
   "execution_count": 16,
   "metadata": {
    "collapsed": false
   },
   "outputs": [
    {
     "name": "stdout",
     "output_type": "stream",
     "text": [
      "Window of 2 took 0.111217021942 seconds.\n",
      "Window of 10 took 0.0659201145172 seconds.\n"
     ]
    }
   ],
   "source": [
    "#lets see some other window sizes\n",
    "\n",
    "start = time.time()\n",
    "newdetect(detectArray,3,2)\n",
    "\n",
    "print 'Window of 2 took', time.time()-start, 'seconds.'\n",
    "\n",
    "start = time.time()\n",
    "newdetect(detectArray,3,10)\n",
    "\n",
    "print 'Window of 10 took', time.time()-start, 'seconds.'"
   ]
  },
  {
   "cell_type": "code",
   "execution_count": 17,
   "metadata": {
    "collapsed": false
   },
   "outputs": [
    {
     "ename": "Exception",
     "evalue": "Window must have a value of at least 2.",
     "output_type": "error",
     "traceback": [
      "\u001b[1;31m---------------------------------------------------------------------------\u001b[0m",
      "\u001b[1;31mException\u001b[0m                                 Traceback (most recent call last)",
      "\u001b[1;32m<ipython-input-17-4af8ffff171d>\u001b[0m in \u001b[0;36m<module>\u001b[1;34m()\u001b[0m\n\u001b[0;32m      1\u001b[0m \u001b[1;33m\u001b[0m\u001b[0m\n\u001b[0;32m      2\u001b[0m \u001b[1;31m#error case\u001b[0m\u001b[1;33m\u001b[0m\u001b[1;33m\u001b[0m\u001b[0m\n\u001b[1;32m----> 3\u001b[1;33m \u001b[0mnewdetect\u001b[0m\u001b[1;33m(\u001b[0m\u001b[0mdetectArray\u001b[0m\u001b[1;33m,\u001b[0m\u001b[1;36m3\u001b[0m\u001b[1;33m,\u001b[0m\u001b[1;36m1\u001b[0m\u001b[1;33m)\u001b[0m\u001b[1;33m\u001b[0m\u001b[0m\n\u001b[0m",
      "\u001b[1;32m<ipython-input-13-00a6ae23ad43>\u001b[0m in \u001b[0;36mnewdetect\u001b[1;34m(time_series, threshold, windowSize)\u001b[0m\n\u001b[0;32m     15\u001b[0m \u001b[1;33m\u001b[0m\u001b[0m\n\u001b[0;32m     16\u001b[0m     \u001b[1;32mif\u001b[0m \u001b[0mwindowSize\u001b[0m \u001b[1;33m<\u001b[0m \u001b[1;36m2\u001b[0m\u001b[1;33m:\u001b[0m\u001b[1;33m\u001b[0m\u001b[0m\n\u001b[1;32m---> 17\u001b[1;33m         \u001b[1;32mraise\u001b[0m \u001b[0mException\u001b[0m\u001b[1;33m(\u001b[0m\u001b[1;34m\"Window must have a value of at least 2.\"\u001b[0m\u001b[1;33m)\u001b[0m\u001b[1;33m\u001b[0m\u001b[0m\n\u001b[0m\u001b[0;32m     18\u001b[0m \u001b[1;33m\u001b[0m\u001b[0m\n\u001b[0;32m     19\u001b[0m     \u001b[1;32mdef\u001b[0m \u001b[0mconvert_to_float\u001b[0m\u001b[1;33m(\u001b[0m\u001b[0mdata_point\u001b[0m\u001b[1;33m)\u001b[0m\u001b[1;33m:\u001b[0m\u001b[1;33m\u001b[0m\u001b[0m\n",
      "\u001b[1;31mException\u001b[0m: Window must have a value of at least 2."
     ]
    }
   ],
   "source": [
    "#error case\n",
    "newdetect(detectArray,3,1)"
   ]
  },
  {
   "cell_type": "code",
   "execution_count": null,
   "metadata": {
    "collapsed": true
   },
   "outputs": [],
   "source": []
  }
 ],
 "metadata": {
  "kernelspec": {
   "display_name": "Python 2",
   "language": "python",
   "name": "python2"
  },
  "language_info": {
   "codemirror_mode": {
    "name": "ipython",
    "version": 2
   },
   "file_extension": ".py",
   "mimetype": "text/x-python",
   "name": "python",
   "nbconvert_exporter": "python",
   "pygments_lexer": "ipython2",
   "version": "2.7.11"
  }
 },
 "nbformat": 4,
 "nbformat_minor": 0
}
